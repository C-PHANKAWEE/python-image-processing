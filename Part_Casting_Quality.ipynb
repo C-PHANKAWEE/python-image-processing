{
  "cells": [
    {
      "cell_type": "code",
      "execution_count": null,
      "metadata": {
        "id": "dSE9t72PqQI5"
      },
      "outputs": [],
      "source": [
        "from tensorflow.keras.layers import Input, Lambda, Dense, Flatten\n",
        "from tensorflow.keras.models import Model\n",
        "from tensorflow.keras.applications.inception_v3 import InceptionV3\n",
        "from tensorflow.keras.applications.inception_v3 import preprocess_input\n",
        "from tensorflow.keras.preprocessing import image\n",
        "from tensorflow.keras.preprocessing.image import ImageDataGenerator, load_img\n",
        "from tensorflow.keras.models import Sequential, load_model\n",
        "import numpy as np\n",
        "import tensorflow as tf\n",
        "from glob import glob"
      ]
    },
    {
      "cell_type": "code",
      "execution_count": null,
      "metadata": {},
      "outputs": [],
      "source": [
        "tf.debugging.set_log_device_placement(True)"
      ]
    },
    {
      "cell_type": "code",
      "execution_count": null,
      "metadata": {},
      "outputs": [],
      "source": [
        "print(tf.__version__)\n",
        "print(tf.config.list_physical_devices(device_type='GPU'))"
      ]
    },
    {
      "cell_type": "code",
      "execution_count": null,
      "metadata": {
        "id": "X_Fn43RTpoSM"
      },
      "outputs": [],
      "source": [
        "dataset_path = './dataset'"
      ]
    },
    {
      "cell_type": "code",
      "execution_count": null,
      "metadata": {
        "id": "AwbfwYSfrXgt"
      },
      "outputs": [],
      "source": [
        "train_dataset_path = dataset_path + '/train'\n",
        "valid_dataset_path = dataset_path + '/test'"
      ]
    },
    {
      "cell_type": "code",
      "execution_count": null,
      "metadata": {
        "id": "I_rGFDOHvoeZ"
      },
      "outputs": [],
      "source": [
        "IMAGE_SIZE = [224, 224]"
      ]
    },
    {
      "cell_type": "code",
      "execution_count": null,
      "metadata": {
        "colab": {
          "base_uri": "https://localhost:8080/"
        },
        "id": "RCvdJDGYvw8L",
        "outputId": "92f29648-b12d-42e5-fb84-032f98f69240"
      },
      "outputs": [],
      "source": [
        "inception = InceptionV3(input_shape=IMAGE_SIZE + [3], weights='imagenet', include_top=False)"
      ]
    },
    {
      "cell_type": "code",
      "execution_count": null,
      "metadata": {
        "id": "hDiY_7aZwWRZ"
      },
      "outputs": [],
      "source": [
        "for layer in inception.layers:\n",
        "  layer.trainable = False"
      ]
    },
    {
      "cell_type": "code",
      "execution_count": null,
      "metadata": {
        "colab": {
          "base_uri": "https://localhost:8080/"
        },
        "id": "UhozwMY1wgoF",
        "outputId": "0dfd2791-7cb2-4329-8cf3-e9d1a577b5ed"
      },
      "outputs": [],
      "source": [
        "folders = glob(train_dataset_path + '/*')\n",
        "print(folders)"
      ]
    },
    {
      "cell_type": "code",
      "execution_count": null,
      "metadata": {
        "id": "ijsAABXXxH2q"
      },
      "outputs": [],
      "source": [
        "x = Flatten()(inception.output)\n",
        "\n",
        "prediction = Dense(len(folders), activation='sigmoid')(x)\n",
        "\n",
        "model = Model(inputs=inception.input, outputs=prediction)"
      ]
    },
    {
      "cell_type": "code",
      "execution_count": null,
      "metadata": {
        "colab": {
          "base_uri": "https://localhost:8080/"
        },
        "id": "kIVnfOW7xWFS",
        "outputId": "7c7d488f-7261-4e19-85f2-6acc2bead221"
      },
      "outputs": [],
      "source": [
        "x"
      ]
    },
    {
      "cell_type": "code",
      "execution_count": null,
      "metadata": {
        "id": "PZGy5oVnxX-6"
      },
      "outputs": [],
      "source": [
        "model.compile(loss='categorical_crossentropy',\n",
        "              optimizer='adam',\n",
        "              metrics=['accuracy'])"
      ]
    },
    {
      "cell_type": "code",
      "execution_count": null,
      "metadata": {
        "id": "_AWOsbE92ccD"
      },
      "outputs": [],
      "source": [
        "train_data_gen = ImageDataGenerator(rescale=1./255,\n",
        "                                   shear_range=0.2,\n",
        "                                   zoom_range=0.1,\n",
        "                                   horizontal_flip=True)\n",
        "\n",
        "test_data_gen = ImageDataGenerator(rescale=1./255)"
      ]
    },
    {
      "cell_type": "code",
      "execution_count": null,
      "metadata": {
        "colab": {
          "base_uri": "https://localhost:8080/"
        },
        "id": "DUirVAId4jRg",
        "outputId": "92fb4c97-0212-4099-e3b8-f81dc5a8c1b5"
      },
      "outputs": [],
      "source": [
        "train_dataset = train_data_gen.flow_from_directory(train_dataset_path,\n",
        "                                                   target_size=(224, 224),\n",
        "                                                   batch_size=64,\n",
        "                                                   class_mode='categorical')\n",
        "\n",
        "test_dataset = test_data_gen.flow_from_directory(valid_dataset_path,\n",
        "                                                   target_size=(224, 224),\n",
        "                                                   batch_size=64,\n",
        "                                                   class_mode='categorical')"
      ]
    },
    {
      "cell_type": "code",
      "execution_count": null,
      "metadata": {
        "colab": {
          "base_uri": "https://localhost:8080/"
        },
        "id": "YTt-ffs76yoW",
        "outputId": "09738fd6-4ffe-49cc-9e3f-2367e2b0749b"
      },
      "outputs": [],
      "source": [
        "r = model.fit(train_dataset,\n",
        "              validation_data=test_dataset,\n",
        "              epochs=5,\n",
        "              steps_per_epoch=len(train_dataset),\n",
        "              validation_steps=len(test_dataset))"
      ]
    },
    {
      "cell_type": "code",
      "execution_count": null,
      "metadata": {
        "id": "VE6KaxAZHYyT"
      },
      "outputs": [],
      "source": [
        "model.save('./models/my_model.h5')"
      ]
    },
    {
      "cell_type": "code",
      "execution_count": null,
      "metadata": {
        "id": "Ra9phdA5enRf"
      },
      "outputs": [],
      "source": [
        "from PIL import Image\n",
        "import numpy as np\n",
        "from skimage import transform\n",
        "import os"
      ]
    },
    {
      "cell_type": "code",
      "execution_count": null,
      "metadata": {
        "id": "wlV0abuQetYi"
      },
      "outputs": [],
      "source": [
        "def load_image(filename):\n",
        "   np_image = Image.open(filename)\n",
        "   np_image = np.array(np_image).astype('float32')/255\n",
        "   np_image = transform.resize(np_image, (224, 224, 3))\n",
        "   np_image = np.expand_dims(np_image, axis=0)\n",
        "   return np_image"
      ]
    },
    {
      "cell_type": "code",
      "execution_count": null,
      "metadata": {},
      "outputs": [],
      "source": [
        "def_dir = './dataset/test/def_front'\n",
        "ok_dir = './dataset/test/ok_front'"
      ]
    },
    {
      "cell_type": "code",
      "execution_count": null,
      "metadata": {
        "id": "CCDxPEg2dHZb"
      },
      "outputs": [],
      "source": [
        "model = load_model('./models/my_model.h5')"
      ]
    },
    {
      "cell_type": "code",
      "execution_count": null,
      "metadata": {},
      "outputs": [],
      "source": [
        "def_dir_list = os.listdir(def_dir)\n",
        "def_dir_list"
      ]
    },
    {
      "cell_type": "code",
      "execution_count": null,
      "metadata": {},
      "outputs": [],
      "source": [
        "result = []\n",
        "for file in def_dir_list:\n",
        "    image = load_image(def_dir + '/' + file)\n",
        "    pred = model.predict(image)\n",
        "    result.append(np.argmax(pred))"
      ]
    },
    {
      "cell_type": "code",
      "execution_count": null,
      "metadata": {},
      "outputs": [],
      "source": [
        "print(f'True Defect : {result.count(0)} | False Defect : {result.count(1)} | Accuracy : {result.count(0)/(result.count(0) + result.count(1)) * 100}%')"
      ]
    },
    {
      "cell_type": "code",
      "execution_count": null,
      "metadata": {},
      "outputs": [],
      "source": [
        "ok_dir_list = os.listdir(ok_dir)\n",
        "ok_dir_list"
      ]
    },
    {
      "cell_type": "code",
      "execution_count": null,
      "metadata": {},
      "outputs": [],
      "source": [
        "result = []\n",
        "for file in ok_dir_list:\n",
        "    image = load_image(ok_dir + '/' + file)\n",
        "    pred = model.predict(image)\n",
        "    result.append(np.argmax(pred))"
      ]
    },
    {
      "cell_type": "code",
      "execution_count": null,
      "metadata": {},
      "outputs": [],
      "source": [
        "print(f'True OK : {result.count(1)} | False OK : {result.count(0)} | Accuracy : {result.count(1)/(result.count(0) + result.count(1)) * 100}%')"
      ]
    }
  ],
  "metadata": {
    "accelerator": "GPU",
    "colab": {
      "gpuType": "T4",
      "provenance": []
    },
    "kernelspec": {
      "display_name": "tf-gpu",
      "language": "python",
      "name": "python3"
    },
    "language_info": {
      "codemirror_mode": {
        "name": "ipython",
        "version": 3
      },
      "file_extension": ".py",
      "mimetype": "text/x-python",
      "name": "python",
      "nbconvert_exporter": "python",
      "pygments_lexer": "ipython3",
      "version": "3.10.18"
    }
  },
  "nbformat": 4,
  "nbformat_minor": 0
}
